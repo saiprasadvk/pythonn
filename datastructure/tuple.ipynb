{
 "cells": [
  {
   "cell_type": "markdown",
   "metadata": {},
   "source": [
    "#Print unique rows in a given boolean matrix using Set with tuples\n",
    "\n",
    "Input:\n",
    "    mat = [[0, 1, 0, 0, 1],\n",
    "             [1, 0, 1, 1, 0],\n",
    "             [0, 1, 0, 0, 1],\n",
    "             [1, 1, 1, 0, 0]]\n",
    "Output:\n",
    "          (1, 1, 1, 0, 0)\n",
    "          (0, 1, 0, 0, 1)\n",
    "          (1, 0, 1, 1, 0)"
   ]
  },
  {
   "cell_type": "code",
   "execution_count": 49,
   "metadata": {},
   "outputs": [
    {
     "name": "stdout",
     "output_type": "stream",
     "text": [
      "(1, 1, 1, 0, 0)\n",
      "(0, 1, 0, 0, 1)\n",
      "(1, 0, 1, 1, 0)\n"
     ]
    }
   ],
   "source": [
    "mat = [[0, 1, 0, 0, 1], [1, 0, 1, 1, 0], [0, 1, 0, 0, 1], [1, 1, 1, 0, 0]]\n",
    "\n",
    "inputs = set(map(tuple, mat))\n",
    "\n",
    "for i in list(inputs):\n",
    "    print(i)"
   ]
  },
  {
   "cell_type": "markdown",
   "metadata": {},
   "source": [
    "Python Dictionary to find mirror characters in a string\n",
    "\n",
    "Input : N = 3\n",
    "        paradox\n",
    "Output : paizwlc"
   ]
  },
  {
   "cell_type": "code",
   "execution_count": 71,
   "metadata": {},
   "outputs": [
    {
     "name": "stdout",
     "output_type": "stream",
     "text": [
      "paizwlc\n"
     ]
    }
   ],
   "source": [
    "char = 'paradox'\n",
    "k = 3\n",
    "\n",
    "original = 'abcdefghijklmnopqrstuvwxyz'\n",
    "reverse = 'zyxwvutsrqponmlkjihgfedcba'\n",
    "dictChars = dict(zip(original,reverse))\n",
    "\n",
    "prefix = char[0:k-1] \n",
    "suffix = char[k-1:] \n",
    "mirror = ''\n",
    "  \n",
    "for i in range(0,len(suffix)): \n",
    "    mirror = mirror + dictChars[suffix[i]] \n",
    "  \n",
    "    # concat prefix and mirrored part \n",
    "print (prefix+mirror) "
   ]
  },
  {
   "cell_type": "markdown",
   "metadata": {},
   "source": [
    "#Generate two output strings depending upon occurrence of character in input string in Python\n",
    "Input : str = \"geeksforgeeks\"\n",
    "Output : String with characters occurring once:\n",
    "\"for\".\n",
    "String with characters occurring multiple times:\n",
    "\"egks\""
   ]
  },
  {
   "cell_type": "code",
   "execution_count": 108,
   "metadata": {},
   "outputs": [
    {
     "name": "stdout",
     "output_type": "stream",
     "text": [
      "Enter the string:geeksforgeeks\n",
      "geks\n",
      "for\n"
     ]
    }
   ],
   "source": [
    "Str = input(\"Enter the string:\")\n",
    "\n",
    "Dict = {}\n",
    "a = \"\"\n",
    "b = \"\"\n",
    "\n",
    "for x in Str:\n",
    "    Dict[x] = Str.count(x)    #can use this to find the count \"from collections import Counter\"  \n",
    "\n",
    "for m,n in Dict.items():\n",
    "    if n % 2 == 0:\n",
    "        a = a + m\n",
    "    elif n % 2 == 1:\n",
    "        b = b + m\n",
    "        \n",
    "print(a)\n",
    "print(b)"
   ]
  },
  {
   "cell_type": "raw",
   "metadata": {},
   "source": [
    "#Reversing a Tuple\n",
    "\n",
    "Input : tuples = ('z','a','d','f','g','e','e','k')"
   ]
  },
  {
   "cell_type": "code",
   "execution_count": 118,
   "metadata": {},
   "outputs": [
    {
     "name": "stdout",
     "output_type": "stream",
     "text": [
      "('k', 'e', 'e', 'g', 'f', 'd', 'a', 'z')\n"
     ]
    }
   ],
   "source": [
    "t = ('z','a','d','f','g','e','e','k')\n",
    "\n",
    "print(t[::-1])"
   ]
  },
  {
   "cell_type": "code",
   "execution_count": 134,
   "metadata": {},
   "outputs": [
    {
     "name": "stdout",
     "output_type": "stream",
     "text": [
      "('k', 'e', 'e', 'g', 'f', 'd', 'a', 'z')\n"
     ]
    }
   ],
   "source": [
    "t = ('z','a','d','f','g','e','e','k')\n",
    "\n",
    "l = []\n",
    "\n",
    "for i in list(t):\n",
    "    l.insert(0,i)\n",
    "    \n",
    "print(tuple(l))    "
   ]
  },
  {
   "cell_type": "raw",
   "metadata": {},
   "source": [
    "Count occurrences of an element in a Tuple\n",
    "\n",
    "Tuple: (10, 8, 5, 2, 10, 15, 10, 8, 5, 8, 8, 2)\n"
   ]
  },
  {
   "cell_type": "code",
   "execution_count": 6,
   "metadata": {},
   "outputs": [
    {
     "name": "stdout",
     "output_type": "stream",
     "text": [
      "Enter the number:4\n",
      "0 time\n"
     ]
    }
   ],
   "source": [
    "T = (10, 8, 5, 2, 10, 15, 10, 8, 5, 8, 8, 2)\n",
    "\n",
    "Input = int(input(\"Enter the number:\"))\n",
    "count = 0\n",
    "\n",
    "for i in T:\n",
    "    if Input == i:\n",
    "        count += 1\n",
    "        \n",
    "print(count,'time')        "
   ]
  },
  {
   "cell_type": "markdown",
   "metadata": {},
   "source": [
    "Count the elements in a list until an element is a Tuple\n"
   ]
  },
  {
   "cell_type": "code",
   "execution_count": 13,
   "metadata": {},
   "outputs": [
    {
     "name": "stdout",
     "output_type": "stream",
     "text": [
      "1\n"
     ]
    }
   ],
   "source": [
    "#I = [4, 5, 6, 10, (1, 2, 3), 11, 2, 4]\n",
    "I = [4, (5, 6), 10, (1, 2, 3), 11, 2, 4]\n",
    "\n",
    "element = 0\n",
    "for x in I:\n",
    "    if type(x) == str:\n",
    "        element += 1\n",
    "    elif type(x) == tuple:\n",
    "        print(I.index(x))\n",
    "        break\n",
    "    \n",
    "    "
   ]
  },
  {
   "cell_type": "raw",
   "metadata": {},
   "source": [
    "Python | Sort a tuple by its float element\n",
    "\n",
    "Input : tuple = [('lucky', '18.265'), ('nikhil', '14.107'), \n",
    "                  ('akash', '24.541'), ('anand', '4.256'), ('gaurav', '10.365')]\n",
    "Output : [('akash', '24.541'), ('lucky', '18.265'), \n",
    "          ('nikhil', '14.107'), ('gaurav', '10.365'), ('anand', '4.256')]"
   ]
  },
  {
   "cell_type": "code",
   "execution_count": 77,
   "metadata": {},
   "outputs": [
    {
     "name": "stdout",
     "output_type": "stream",
     "text": [
      "[('akash', '24.541'), ('lucky', '18.265'), ('nikhil', '14.107'), ('gaurav', '10.365'), ('anand', '4.256')]\n"
     ]
    }
   ],
   "source": [
    "def Sort(tup): \n",
    "    tup.sort(key = lambda x: float(x[1]), reverse = True) \n",
    "    print(tup)\n",
    "    \n",
    "    \n",
    "tup = [('lucky', '18.265'), ('nikhil', '14.107'), ('akash', '24.541'),('anand', '4.256'), ('gaurav', '10.365')] \n",
    "Sort(tup)\n"
   ]
  },
  {
   "cell_type": "code",
   "execution_count": null,
   "metadata": {},
   "outputs": [],
   "source": []
  }
 ],
 "metadata": {
  "kernelspec": {
   "display_name": "Python 3",
   "language": "python",
   "name": "python3"
  },
  "language_info": {
   "codemirror_mode": {
    "name": "ipython",
    "version": 3
   },
   "file_extension": ".py",
   "mimetype": "text/x-python",
   "name": "python",
   "nbconvert_exporter": "python",
   "pygments_lexer": "ipython3",
   "version": "3.6.10"
  }
 },
 "nbformat": 4,
 "nbformat_minor": 4
}
